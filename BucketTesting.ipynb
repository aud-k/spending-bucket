{
 "cells": [
  {
   "cell_type": "code",
   "execution_count": 1,
   "id": "3c1c8061-f114-4fc5-85f5-4c19322a01af",
   "metadata": {},
   "outputs": [],
   "source": [
    "import pandas as pd\n",
    "import sqlite3\n",
    "con = sqlite3.connect('transactions.db')\n",
    "c = con.cursor()"
   ]
  },
  {
   "cell_type": "code",
   "execution_count": 8,
   "id": "ff722e28-ef23-4678-acb0-b7afb88edd66",
   "metadata": {},
   "outputs": [],
   "source": [
    "def transaction_insert_into(new_df=None, csv_filepath=None, connection=None):\n",
    "    if new_df is None:\n",
    "        try:\n",
    "            new_df = pd.read_csv(csv_filepath)\n",
    "        except FileNotFoundError as e:\n",
    "            print(\"Please provide a valid dataframe or path to a CSV file.\")\n",
    "            print(e)\n",
    "            return\n",
    "    if connection is None:\n",
    "        connection = sqlite3.connect(\"transactions.db\")\n",
    "    current_df = pd.read_sql_query(\"SELECT * from transactions\", connection)\n",
    "    try:\n",
    "        current_df = current_df.drop(columns='index')\n",
    "    except KeyError:\n",
    "        pass\n",
    "    merged_df = pd.concat([current_df, new_df]).drop_duplicates(keep='first')\n",
    "    final_df = pd.concat([current_df, merged_df]).drop_duplicates(keep=False).sort_values(by=\"<Date>\")\n",
    "    final_df.to_sql(\"transactions\", connection, if_exists='append')\n",
    "    connection.commit()\n",
    "    print(\"Wrote data to transactions.db\")"
   ]
  },
  {
   "cell_type": "code",
   "execution_count": 29,
   "id": "a459f54d-3550-49a3-a487-96a92d8c8147",
   "metadata": {},
   "outputs": [],
   "source": [
    "con = sqlite3.connect(\"transactions.db\")"
   ]
  },
  {
   "cell_type": "code",
   "execution_count": null,
   "id": "88d96887-b0f9-45c5-aa1c-f85af305a774",
   "metadata": {},
   "outputs": [],
   "source": [
    "class Transaction:\n",
    "    \n",
    "    def __init__(self, rowid, date, checknum, description, withdrawal_amount, deposit_amount, long_description):\n",
    "        self.transaction_date = date\n",
    "        self.description = description\n",
    "        self.amount = withdrawal_amount + deposit_amount\n",
    "        self.long_description = long_description"
   ]
  },
  {
   "cell_type": "code",
   "execution_count": 29,
   "id": "31201081-c8e0-4701-b61a-74f376a16efa",
   "metadata": {},
   "outputs": [],
   "source": [
    "def split_by_transaction_type(transactions_df):\n",
    "    withdrawals = transactions[transactions[\"<Deposit Amount>\"].isna()]\n",
    "    deposits = transactions[transactions[\"<Withdrawal Amount>\"].isna()]\n",
    "    return withdrawals, deposits"
   ]
  },
  {
   "cell_type": "code",
   "execution_count": 43,
   "id": "c48fcf32-32e4-438c-a68a-fdc7c7887b06",
   "metadata": {},
   "outputs": [],
   "source": [
    "def get_purchases(withdrawal_df):\n",
    "    purchases = withdrawal_df[withdrawal_df[\"<Description>\"].str.contains(\"PU*RCHA*SE*\", case=False)]\n",
    "    other = withdrawal_df[~withdrawal_df[\"<Description>\"].str.contains(\"PU*RCHA*SE*\", case=False)]\n",
    "    return purchases, other"
   ]
  },
  {
   "cell_type": "code",
   "execution_count": 31,
   "id": "760d3bae-2ff6-4b17-b10e-46250bc594e9",
   "metadata": {},
   "outputs": [],
   "source": [
    "def split_by_large_purchases(purchases_df, lower_cutoff=100):\n",
    "    large = purchases_df[purchases_df[\"<Withdrawal Amount>\"] <= -lower_cutoff]\n",
    "    other = purchases_df[purchases_df[\"<Withdrawal Amount>\"] > -lower_cutoff]\n",
    "    return large, other"
   ]
  },
  {
   "cell_type": "markdown",
   "id": "b31c4ac7-f815-415d-abf1-066d8c4ea59b",
   "metadata": {},
   "source": [
    "-\n",
    "-\n",
    "-\n",
    "-\n",
    "-\n",
    "-\n",
    "-\n",
    "-\n"
   ]
  },
  {
   "cell_type": "code",
   "execution_count": 2,
   "id": "a9cbfe36-be71-444c-9648-8f0dcd7c738c",
   "metadata": {},
   "outputs": [],
   "source": [
    "from SpendingBuckets import Bucket, move_amount"
   ]
  },
  {
   "cell_type": "code",
   "execution_count": 2,
   "id": "a7489371-c616-4762-b7d2-6e13a8b5e98b",
   "metadata": {},
   "outputs": [],
   "source": [
    "income = Bucket(\"Income\", 1800)\n",
    "rent = Bucket(\"Rent\")\n",
    "internet = Bucket(\"Internet\")\n",
    "electric = Bucket(\"Electric\")\n",
    "monthly_charges = Bucket(\"Monthly Charges\")\n",
    "vet = Bucket(\"Vet\")\n",
    "cat_stuff = Bucket(\"Cat Food and Litter\")\n",
    "savings = Bucket(\"Savings\")"
   ]
  },
  {
   "cell_type": "code",
   "execution_count": 20,
   "id": "18de0821-689e-4798-b2f1-09b01d8589f9",
   "metadata": {},
   "outputs": [],
   "source": [
    "r = 800\n",
    "i = 50\n",
    "e = 100\n",
    "v = 200\n",
    "c = 100\n",
    "s = 30"
   ]
  },
  {
   "cell_type": "code",
   "execution_count": 3,
   "id": "dc628eb9-7b0f-4ed9-9bc9-f42078e35aad",
   "metadata": {},
   "outputs": [],
   "source": [
    "emergency_food = Bucket(\"Emergency Food\")"
   ]
  },
  {
   "cell_type": "code",
   "execution_count": 4,
   "id": "821794a1-7357-4c75-87e1-5571aef225b3",
   "metadata": {},
   "outputs": [],
   "source": [
    "audrey = Bucket(\"Audrey\")\n",
    "rion = Bucket(\"Orion\")"
   ]
  },
  {
   "cell_type": "code",
   "execution_count": 3,
   "id": "35067977-f5a0-4691-931e-8aa762200c1e",
   "metadata": {},
   "outputs": [],
   "source": [
    "#import saved bucket datahyuhhhhhhhhhhhhhhhhhhhhh\n",
    "\n",
    "import pickle\n",
    "\n",
    "with open(\"bucketdata\", 'rb') as f:\n",
    "    a = pickle.load(f)\n",
    "    \n",
    "for name, bucket in a.items():\n",
    "    Bucket._instances[name] = bucket"
   ]
  },
  {
   "cell_type": "code",
   "execution_count": 4,
   "id": "2ef1110b-d717-4482-9304-d28dd46be421",
   "metadata": {},
   "outputs": [
    {
     "data": {
      "text/plain": [
       "{'Income': <SpendingBuckets.Bucket at 0x7ad30c0ae400>,\n",
       " 'Rent': <SpendingBuckets.Bucket at 0x7ad30c3ded90>,\n",
       " 'Internet': <SpendingBuckets.Bucket at 0x7ad30c3ded30>,\n",
       " 'Electric': <SpendingBuckets.Bucket at 0x7ad30c259be0>,\n",
       " 'Monthly Charges': <SpendingBuckets.Bucket at 0x7ad30c259130>,\n",
       " 'Vet': <SpendingBuckets.Bucket at 0x7ad30c3b35b0>,\n",
       " 'Cat Food and Litter': <SpendingBuckets.Bucket at 0x7ad30c3b3a00>,\n",
       " 'Savings': <SpendingBuckets.Bucket at 0x7ad30c3b3f10>,\n",
       " 'Emergency Food': <SpendingBuckets.Bucket at 0x7ad30c3b3d30>,\n",
       " 'Audrey': <SpendingBuckets.Bucket at 0x7ad30c3b3cd0>,\n",
       " 'Orion': <SpendingBuckets.Bucket at 0x7ad30c3b3b80>}"
      ]
     },
     "execution_count": 4,
     "metadata": {},
     "output_type": "execute_result"
    }
   ],
   "source": [
    "a"
   ]
  },
  {
   "cell_type": "code",
   "execution_count": 7,
   "id": "7e1f6e2f-77e7-4dbc-a886-ca7e843fe1fe",
   "metadata": {},
   "outputs": [
    {
     "data": {
      "text/plain": [
       "210"
      ]
     },
     "execution_count": 7,
     "metadata": {},
     "output_type": "execute_result"
    }
   ],
   "source": [
    "a['Orion'].balance"
   ]
  },
  {
   "cell_type": "code",
   "execution_count": 8,
   "id": "f0486ea7-0f2b-4972-91e9-d78890a019e5",
   "metadata": {},
   "outputs": [],
   "source": [
    "spent_food_a = Bucket(\"Audrey Spent On Food\")\n",
    "spent_misc_a = Bucket(\"Audrey Spent On Misc.\")"
   ]
  },
  {
   "cell_type": "code",
   "execution_count": null,
   "id": "a0d23ee8-a45f-4ce0-9d0d-57004ee47654",
   "metadata": {},
   "outputs": [],
   "source": []
  }
 ],
 "metadata": {
  "kernelspec": {
   "display_name": "Python 3 (ipykernel)",
   "language": "python",
   "name": "python3"
  },
  "language_info": {
   "codemirror_mode": {
    "name": "ipython",
    "version": 3
   },
   "file_extension": ".py",
   "mimetype": "text/x-python",
   "name": "python",
   "nbconvert_exporter": "python",
   "pygments_lexer": "ipython3",
   "version": "3.9.7"
  }
 },
 "nbformat": 4,
 "nbformat_minor": 5
}
