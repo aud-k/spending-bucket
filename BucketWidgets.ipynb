{
 "cells": [
  {
   "cell_type": "code",
   "execution_count": 1,
   "id": "329023c8-9607-47de-b4dd-719c2e7c6bef",
   "metadata": {},
   "outputs": [
    {
     "data": {
      "application/vnd.jupyter.widget-view+json": {
       "model_id": "8d0b2927f36147fcba7eacd9bd58f797",
       "version_major": 2,
       "version_minor": 0
      },
      "text/plain": [
       "Box()"
      ]
     },
     "metadata": {},
     "output_type": "display_data"
    }
   ],
   "source": [
    "import ipywidgets as widgets\n",
    "widgets.Box()"
   ]
  },
  {
   "cell_type": "code",
   "execution_count": 3,
   "id": "db963385-dc4f-4b6e-92fa-d6c2816fb125",
   "metadata": {},
   "outputs": [],
   "source": [
    "buttons = [widgets.Button() for i in range(3)]"
   ]
  },
  {
   "cell_type": "code",
   "execution_count": 4,
   "id": "29eb97ec-e876-4ada-a5ae-3b813172d673",
   "metadata": {},
   "outputs": [
    {
     "data": {
      "application/vnd.jupyter.widget-view+json": {
       "model_id": "8b2554db43e6451795832a0bd96faeb1",
       "version_major": 2,
       "version_minor": 0
      },
      "text/plain": [
       "Box(children=(Button(style=ButtonStyle()), Button(style=ButtonStyle()), Button(style=ButtonStyle())))"
      ]
     },
     "metadata": {},
     "output_type": "display_data"
    }
   ],
   "source": [
    "display(widgets.Box(buttons))"
   ]
  },
  {
   "cell_type": "code",
   "execution_count": 5,
   "id": "94f8fdb5-9864-44dd-bb79-1168ae6988fa",
   "metadata": {},
   "outputs": [
    {
     "data": {
      "text/plain": [
       "[Button(style=ButtonStyle()),\n",
       " Button(style=ButtonStyle()),\n",
       " Button(style=ButtonStyle())]"
      ]
     },
     "execution_count": 5,
     "metadata": {},
     "output_type": "execute_result"
    }
   ],
   "source": [
    "buttons"
   ]
  },
  {
   "cell_type": "code",
   "execution_count": 6,
   "id": "51b2ea5f-6ae0-4051-a3f2-cc029aa2213e",
   "metadata": {},
   "outputs": [
    {
     "data": {
      "application/vnd.jupyter.widget-view+json": {
       "model_id": "8caff4c5e91943009ca39484d3a7728f",
       "version_major": 2,
       "version_minor": 0
      },
      "text/plain": [
       "Button(style=ButtonStyle())"
      ]
     },
     "metadata": {},
     "output_type": "display_data"
    }
   ],
   "source": [
    "buttons[0]"
   ]
  },
  {
   "cell_type": "code",
   "execution_count": 2,
   "id": "bd79b052-a377-41a3-9574-61a1389367ab",
   "metadata": {},
   "outputs": [
    {
     "data": {
      "application/vnd.jupyter.widget-view+json": {
       "model_id": "2ddfbf3900a54a808383d94d1a1a8a27",
       "version_major": 2,
       "version_minor": 0
      },
      "text/plain": [
       "IntSlider(value=0)"
      ]
     },
     "metadata": {},
     "output_type": "display_data"
    }
   ],
   "source": [
    "widgets.IntSlider()"
   ]
  },
  {
   "cell_type": "code",
   "execution_count": 7,
   "id": "5b90554b-dd98-4c5d-ab4a-e083f44030ff",
   "metadata": {},
   "outputs": [],
   "source": [
    "w = widgets.AppLayout(left_sidebar=widgets.Label(\"hello\"), center=widgets.IntSlider())"
   ]
  },
  {
   "cell_type": "code",
   "execution_count": 10,
   "id": "99771d76-1332-4d52-b422-3631eefb4e1b",
   "metadata": {},
   "outputs": [],
   "source": [
    "w.center = widgets.Label(\"world\")"
   ]
  },
  {
   "cell_type": "code",
   "execution_count": 11,
   "id": "e3e32e5d-bcb0-45f3-a8f8-ef669d043c34",
   "metadata": {},
   "outputs": [
    {
     "data": {
      "application/vnd.jupyter.widget-view+json": {
       "model_id": "f9f4e5fe1c50433390d6c7c1aeeb0895",
       "version_major": 2,
       "version_minor": 0
      },
      "text/plain": [
       "AppLayout(children=(Label(value='hello', layout=Layout(grid_area='left-sidebar')), Label(value='world', layout…"
      ]
     },
     "metadata": {},
     "output_type": "display_data"
    }
   ],
   "source": [
    "w"
   ]
  },
  {
   "cell_type": "code",
   "execution_count": 1,
   "id": "b25c2e91-2e7e-4a8b-a058-e841ee680456",
   "metadata": {},
   "outputs": [],
   "source": [
    "from BucketWidgets import Application"
   ]
  },
  {
   "cell_type": "code",
   "execution_count": 2,
   "id": "b5bb81d7-0465-42cb-9071-f8726bf2cabc",
   "metadata": {},
   "outputs": [
    {
     "data": {
      "application/vnd.jupyter.widget-view+json": {
       "model_id": "b3a8d8706cd74d4eac1b22fcba0f8ea5",
       "version_major": 2,
       "version_minor": 0
      },
      "text/plain": [
       "Application(children=(HBox(children=(Text(value='', description='New bucket name: ', placeholder='Name'), Butt…"
      ]
     },
     "metadata": {},
     "output_type": "display_data"
    }
   ],
   "source": [
    "test = Application()"
   ]
  },
  {
   "cell_type": "code",
   "execution_count": 4,
   "id": "82745f0f-d66d-47de-85ce-e18303edd4e5",
   "metadata": {},
   "outputs": [
    {
     "data": {
      "text/plain": [
       "54.67"
      ]
     },
     "execution_count": 4,
     "metadata": {},
     "output_type": "execute_result"
    }
   ],
   "source": [
    "40.95+13.72"
   ]
  },
  {
   "cell_type": "code",
   "execution_count": 1,
   "id": "526d9a93-c258-4108-bcd1-9b78682c913b",
   "metadata": {},
   "outputs": [],
   "source": [
    "from SpendingBuckets import Transaction, Bucket"
   ]
  },
  {
   "cell_type": "code",
   "execution_count": 2,
   "id": "b4bfb9e6-b2a8-41c5-9efb-4d5a18dd456c",
   "metadata": {},
   "outputs": [],
   "source": [
    "tns = [Transaction(i, True) for i in range(4)]"
   ]
  },
  {
   "cell_type": "code",
   "execution_count": 3,
   "id": "632be8d8-31a1-4de8-a166-495e784f3744",
   "metadata": {},
   "outputs": [],
   "source": [
    "neg_tns = [Transaction(i, False) for i in range(4)]"
   ]
  },
  {
   "cell_type": "code",
   "execution_count": 4,
   "id": "ee209d3f-34bd-49de-bedc-1c957c623729",
   "metadata": {},
   "outputs": [],
   "source": [
    "b = Bucket('test')"
   ]
  },
  {
   "cell_type": "code",
   "execution_count": 8,
   "id": "fa7053d4-2645-4e75-a171-b27a4ad8fb1a",
   "metadata": {},
   "outputs": [],
   "source": [
    "b.new_transaction(5, False)\n",
    "b.new_transaction(5, True)\n",
    "b.new_transaction(-3, False)\n",
    "b.new_transaction(-5, True)"
   ]
  },
  {
   "cell_type": "code",
   "execution_count": 10,
   "id": "cfcccde7-3dbe-4833-841a-e6aa2968cd52",
   "metadata": {},
   "outputs": [
    {
     "data": {
      "text/plain": [
       "[Transaction(amount=0, is_deposit=False, transaction_date=datetime.date(2022, 4, 18), vendor='', memo='INITIAL'),\n",
       " Transaction(amount=-5, is_deposit=False, transaction_date=datetime.date(2022, 4, 18), vendor='', memo=''),\n",
       " Transaction(amount=-5, is_deposit=False, transaction_date=datetime.date(2022, 4, 18), vendor='', memo=''),\n",
       " Transaction(amount=5, is_deposit=True, transaction_date=datetime.date(2022, 4, 18), vendor='', memo=''),\n",
       " Transaction(amount=-3, is_deposit=False, transaction_date=datetime.date(2022, 4, 18), vendor='', memo=''),\n",
       " Transaction(amount=5, is_deposit=True, transaction_date=datetime.date(2022, 4, 18), vendor='', memo='')]"
      ]
     },
     "execution_count": 10,
     "metadata": {},
     "output_type": "execute_result"
    }
   ],
   "source": [
    "b.transactions"
   ]
  },
  {
   "cell_type": "code",
   "execution_count": null,
   "id": "c5026ea9-60d1-4da5-a877-6687eed2ff11",
   "metadata": {},
   "outputs": [],
   "source": []
  }
 ],
 "metadata": {
  "kernelspec": {
   "display_name": "Python 3 (ipykernel)",
   "language": "python",
   "name": "python3"
  },
  "language_info": {
   "codemirror_mode": {
    "name": "ipython",
    "version": 3
   },
   "file_extension": ".py",
   "mimetype": "text/x-python",
   "name": "python",
   "nbconvert_exporter": "python",
   "pygments_lexer": "ipython3",
   "version": "3.9.7"
  }
 },
 "nbformat": 4,
 "nbformat_minor": 5
}
